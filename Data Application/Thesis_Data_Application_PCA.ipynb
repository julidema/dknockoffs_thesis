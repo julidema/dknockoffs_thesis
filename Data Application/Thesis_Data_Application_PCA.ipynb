{
  "nbformat": 4,
  "nbformat_minor": 0,
  "metadata": {
    "colab": {
      "name": "Thesis_Data_Application_PCA.ipynb",
      "provenance": []
    },
    "kernelspec": {
      "name": "python3",
      "display_name": "Python 3"
    },
    "language_info": {
      "name": "python"
    }
  },
  "cells": [
    {
      "cell_type": "code",
      "source": [
        "import pandas as pd\n",
        "import numpy as np\n",
        "from statsmodels.stats.moment_helpers import cov2corr\n",
        "from sklearn.model_selection import train_test_split\n",
        "from sklearn.decomposition import PCA\n",
        "import sklearn\n",
        "from sklearn.linear_model import LogisticRegression\n",
        "from sklearn.metrics import classification_report\n"
      ],
      "metadata": {
        "id": "JEd_7HtXsh_b",
        "colab": {
          "base_uri": "https://localhost:8080/"
        },
        "outputId": "48b3231b-b2f4-439d-840b-f085ffb106d3"
      },
      "execution_count": 1,
      "outputs": [
        {
          "output_type": "stream",
          "name": "stderr",
          "text": [
            "/usr/local/lib/python3.7/dist-packages/statsmodels/tools/_testing.py:19: FutureWarning: pandas.util.testing is deprecated. Use the functions in the public API at pandas.testing instead.\n",
            "  import pandas.util.testing as tm\n"
          ]
        }
      ]
    },
    {
      "cell_type": "code",
      "source": [
        "data = pd.read_csv(\"/content/drive/MyDrive/Genes/DataApp.csv\", index_col = 0, header = 0)"
      ],
      "metadata": {
        "id": "w7ZLsfh538dx"
      },
      "execution_count": 2,
      "outputs": []
    },
    {
      "cell_type": "code",
      "source": [
        "y = data.Class\n",
        "X = data.drop(columns = \"Class\")\n"
      ],
      "metadata": {
        "id": "quzSFJAh5pak"
      },
      "execution_count": 28,
      "outputs": []
    },
    {
      "cell_type": "code",
      "source": [
        "X_train, X_test, y_train, y_test = train_test_split(X, y, random_state = 1)\n"
      ],
      "metadata": {
        "id": "s3DI9D6N7xNJ"
      },
      "execution_count": 29,
      "outputs": []
    },
    {
      "cell_type": "code",
      "source": [
        "pd.DataFrame(y_train).to_csv(\"TrainClass.csv\") # Training class needed to perform the knockoff procedure in R"
      ],
      "metadata": {
        "id": "AutF-cnBOOX2"
      },
      "execution_count": 60,
      "outputs": []
    },
    {
      "cell_type": "markdown",
      "source": [
        "# Apply PCA to reduce dimensions"
      ],
      "metadata": {
        "id": "u2rQ6loYHKyK"
      }
    },
    {
      "cell_type": "code",
      "source": [
        "pca = PCA()\n",
        "principalComponents = pca.fit_transform(X_train)"
      ],
      "metadata": {
        "id": "OFvC4h-hHNmA"
      },
      "execution_count": 40,
      "outputs": []
    },
    {
      "cell_type": "code",
      "source": [
        "train_pca = pd.DataFrame(data = principalComponents)\n",
        "train_pca.to_csv('PCA_DataApp.csv')"
      ],
      "metadata": {
        "id": "AdqulVZ-IOEy"
      },
      "execution_count": 41,
      "outputs": []
    },
    {
      "cell_type": "code",
      "source": [
        "selected_knock = [2, 4, 5, 6, 7, 243, 258, 399, 434, 437, 441] # Principal components selected by the knockoff procedure"
      ],
      "metadata": {
        "id": "YlUyB4f-StME"
      },
      "execution_count": 42,
      "outputs": []
    },
    {
      "cell_type": "code",
      "source": [
        "X_train_knockoffpca = train_pca.iloc[:, selected_knock] # Keep only selected principal components"
      ],
      "metadata": {
        "id": "GI3S4oAOT7Gn"
      },
      "execution_count": 43,
      "outputs": []
    },
    {
      "cell_type": "code",
      "source": [
        "# Transform test data with the same transformation\n",
        "test_pca = pca.transform(X_test)\n",
        "X_test_knockoffpca = test_pca[:, selected_knock]"
      ],
      "metadata": {
        "id": "95cdLmfUUSit"
      },
      "execution_count": 44,
      "outputs": []
    },
    {
      "cell_type": "markdown",
      "source": [
        "# Classification with Logistic Regression (after applying knockoffs)\n"
      ],
      "metadata": {
        "id": "-3_-w_WcZdcZ"
      }
    },
    {
      "cell_type": "code",
      "source": [
        "# Logisitc Regression\n",
        "class logreg_classifier:\n",
        "    def __init__(self ):\n",
        "        self.clf = None\n",
        "        self.features = None\n",
        "        self.test = None\n",
        "        \n",
        "    def fit(self, features, y_train, class_weight=None):\n",
        "        self.features = features\n",
        "        self.clf = LogisticRegression(class_weight=class_weight, random_state=1)\n",
        "        \n",
        "        # train the model\n",
        "        self.clf.fit(self.features, y_train)\n",
        "#         print(f\"The best parameters are {self.clf.best_params_} with a score of {self.clf.best_score_} on validation data\")\n",
        "    \n",
        "    def get_test_predict(self, text):\n",
        "        self.test = text\n",
        "        pred_val = self.predict(self.test)\n",
        "        return pred_val\n",
        "    \n",
        "    def get_test_predict_proba(self, text):\n",
        "        self.test = text\n",
        "        pred_prob = self.clf.predict_proba(self.test)\n",
        "        return pred_prob\n",
        "        \n",
        "    def get_metrics(self, y_test, pred_val):\n",
        "        print(\"Report for test data \\n\\n\", classification_report(y_test, pred_val))\n",
        "        \n",
        "    def predict(self, X):\n",
        "        return self.clf.predict(X)\n",
        "\n",
        "    def __call__(self, X):\n",
        "        return self.predict(X)\n"
      ],
      "metadata": {
        "id": "lHwI_gumUHWv"
      },
      "execution_count": 45,
      "outputs": []
    },
    {
      "cell_type": "code",
      "source": [
        "lreg = logreg_classifier()\n",
        "lreg.fit(X_train_knockoffpca, y_train)\n",
        "pred_lreg = lreg.predict(X_test_knockoffpca) # Test set predictions\n",
        "pred_train = lreg.predict(X_train_knockoffpca) # Traning set predictions"
      ],
      "metadata": {
        "id": "4jjPVoU4UfmG"
      },
      "execution_count": 46,
      "outputs": []
    },
    {
      "cell_type": "code",
      "source": [
        "# Test set confusion matrix\n",
        "sklearn.metrics.ConfusionMatrixDisplay.from_predictions(y_test, pred_lreg)"
      ],
      "metadata": {
        "colab": {
          "base_uri": "https://localhost:8080/",
          "height": 296
        },
        "id": "ufTxwCF0Up4c",
        "outputId": "d99e2436-393c-4d9f-f1aa-ca824b762313"
      },
      "execution_count": 48,
      "outputs": [
        {
          "output_type": "execute_result",
          "data": {
            "text/plain": [
              "<sklearn.metrics._plot.confusion_matrix.ConfusionMatrixDisplay at 0x7f50dbd81f90>"
            ]
          },
          "metadata": {},
          "execution_count": 48
        },
        {
          "output_type": "display_data",
          "data": {
            "text/plain": [
              "<Figure size 432x288 with 2 Axes>"
            ],
            "image/png": "[encoded data removed]"
          },
          "metadata": {
            "needs_background": "light"
          }
        }
      ]
    },
    {
      "cell_type": "code",
      "source": [
        "# Training set confusion matrix\n",
        "sklearn.metrics.ConfusionMatrixDisplay.from_predictions(y_train, pred_train)"
      ],
      "metadata": {
        "id": "5sQjiP-FWlSv"
      },
      "execution_count": null,
      "outputs": []
    },
    {
      "cell_type": "code",
      "source": [
        "# Try Logistic Regression Classification with just PCA (no knockoff selection)\n",
        "lreg_pca = logreg_classifier()\n",
        "lreg_pca.fit(train_pca, y_train)\n",
        "pred_lrpca = lreg_pca.predict(test_pca) \n",
        "pred_train_pca = lreg_pca.predict(train_pca)\n",
        "# Test set confusion matrix\n",
        "sklearn.metrics.ConfusionMatrixDisplay.from_predictions(pred_lrpca, y_test) "
      ],
      "metadata": {
        "id": "CFO_5SWlVJTM"
      },
      "execution_count": null,
      "outputs": []
    },
    {
      "cell_type": "code",
      "source": [
        "# Training set confusion matrix\n",
        "sklearn.metrics.ConfusionMatrixDisplay.from_predictions(pred_train_pca, y_train)"
      ],
      "metadata": {
        "colab": {
          "base_uri": "https://localhost:8080/",
          "height": 296
        },
        "id": "43mzFS_0hk68",
        "outputId": "d7959d07-ce3f-4252-da92-819b4e115051"
      },
      "execution_count": 50,
      "outputs": [
        {
          "output_type": "execute_result",
          "data": {
            "text/plain": [
              "<sklearn.metrics._plot.confusion_matrix.ConfusionMatrixDisplay at 0x7f50db1fa390>"
            ]
          },
          "metadata": {},
          "execution_count": 50
        },
        {
          "output_type": "display_data",
          "data": {
            "text/plain": [
              "<Figure size 432x288 with 2 Axes>"
            ],
            "image/png": "[encoded data removed]"
          },
          "metadata": {
            "needs_background": "light"
          }
        }
      ]
    }
  ]
}